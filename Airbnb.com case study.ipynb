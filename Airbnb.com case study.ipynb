{
 "cells": [
  {
   "cell_type": "markdown",
   "id": "964da77b-6c79-4cdd-918f-303aaa756e1e",
   "metadata": {},
   "source": [
    "## 1. Importing required modules"
   ]
  },
  {
   "cell_type": "code",
   "execution_count": 4,
   "id": "8418896f-962c-4ded-8f7f-f49e4e0f17e7",
   "metadata": {},
   "outputs": [],
   "source": [
    "#importing all required libraries\n",
    "import numpy as np \n",
    "import pandas as pd\n",
    "import matplotlib.pyplot as plt\n",
    "import seaborn as sns\n",
    "import warnings\n",
    "warnings.filterwarnings('ignore')"
   ]
  },
  {
   "cell_type": "markdown",
   "id": "ca1f0cb0-34ef-4018-b301-343573dc45af",
   "metadata": {},
   "source": [
    "## 2. Loading dataset"
   ]
  },
  {
   "cell_type": "code",
   "execution_count": 5,
   "id": "a46f5f28-8abe-4b57-9cdb-91b6127c2160",
   "metadata": {},
   "outputs": [],
   "source": [
    "df = pd.read_csv(\"D:\\W\\My Portfolio\\Airbnb case study\\Airbnb_data.csv\")"
   ]
  },
  {
   "cell_type": "code",
   "execution_count": 6,
   "id": "c9e9d813-9f0f-45e9-98b4-397639266bf0",
   "metadata": {},
   "outputs": [
    {
     "data": {
      "text/html": [
       "<div>\n",
       "<style scoped>\n",
       "    .dataframe tbody tr th:only-of-type {\n",
       "        vertical-align: middle;\n",
       "    }\n",
       "\n",
       "    .dataframe tbody tr th {\n",
       "        vertical-align: top;\n",
       "    }\n",
       "\n",
       "    .dataframe thead th {\n",
       "        text-align: right;\n",
       "    }\n",
       "</style>\n",
       "<table border=\"1\" class=\"dataframe\">\n",
       "  <thead>\n",
       "    <tr style=\"text-align: right;\">\n",
       "      <th></th>\n",
       "      <th>id</th>\n",
       "      <th>name</th>\n",
       "      <th>host_id</th>\n",
       "      <th>host_name</th>\n",
       "      <th>neighbourhood_group</th>\n",
       "      <th>neighbourhood</th>\n",
       "      <th>latitude</th>\n",
       "      <th>longitude</th>\n",
       "      <th>room_type</th>\n",
       "      <th>price</th>\n",
       "      <th>minimum_nights</th>\n",
       "      <th>number_of_reviews</th>\n",
       "      <th>last_review</th>\n",
       "      <th>reviews_per_month</th>\n",
       "      <th>calculated_host_listings_count</th>\n",
       "      <th>availability_365</th>\n",
       "    </tr>\n",
       "  </thead>\n",
       "  <tbody>\n",
       "    <tr>\n",
       "      <th>0</th>\n",
       "      <td>2539</td>\n",
       "      <td>Clean &amp; quiet apt home by the park</td>\n",
       "      <td>2787</td>\n",
       "      <td>John</td>\n",
       "      <td>Brooklyn</td>\n",
       "      <td>Kensington</td>\n",
       "      <td>40.64749</td>\n",
       "      <td>-73.97237</td>\n",
       "      <td>Private room</td>\n",
       "      <td>149</td>\n",
       "      <td>1</td>\n",
       "      <td>9</td>\n",
       "      <td>2018-10-19</td>\n",
       "      <td>0.21</td>\n",
       "      <td>6</td>\n",
       "      <td>365</td>\n",
       "    </tr>\n",
       "    <tr>\n",
       "      <th>1</th>\n",
       "      <td>2595</td>\n",
       "      <td>Skylit Midtown Castle</td>\n",
       "      <td>2845</td>\n",
       "      <td>Jennifer</td>\n",
       "      <td>Manhattan</td>\n",
       "      <td>Midtown</td>\n",
       "      <td>40.75362</td>\n",
       "      <td>-73.98377</td>\n",
       "      <td>Entire home/apt</td>\n",
       "      <td>225</td>\n",
       "      <td>1</td>\n",
       "      <td>45</td>\n",
       "      <td>2019-05-21</td>\n",
       "      <td>0.38</td>\n",
       "      <td>2</td>\n",
       "      <td>355</td>\n",
       "    </tr>\n",
       "    <tr>\n",
       "      <th>2</th>\n",
       "      <td>3647</td>\n",
       "      <td>THE VILLAGE OF HARLEM....NEW YORK !</td>\n",
       "      <td>4632</td>\n",
       "      <td>Elisabeth</td>\n",
       "      <td>Manhattan</td>\n",
       "      <td>Harlem</td>\n",
       "      <td>40.80902</td>\n",
       "      <td>-73.94190</td>\n",
       "      <td>Private room</td>\n",
       "      <td>150</td>\n",
       "      <td>3</td>\n",
       "      <td>0</td>\n",
       "      <td>NaN</td>\n",
       "      <td>NaN</td>\n",
       "      <td>1</td>\n",
       "      <td>365</td>\n",
       "    </tr>\n",
       "    <tr>\n",
       "      <th>3</th>\n",
       "      <td>3831</td>\n",
       "      <td>Cozy Entire Floor of Brownstone</td>\n",
       "      <td>4869</td>\n",
       "      <td>LisaRoxanne</td>\n",
       "      <td>Brooklyn</td>\n",
       "      <td>Clinton Hill</td>\n",
       "      <td>40.68514</td>\n",
       "      <td>-73.95976</td>\n",
       "      <td>Entire home/apt</td>\n",
       "      <td>89</td>\n",
       "      <td>1</td>\n",
       "      <td>270</td>\n",
       "      <td>2019-07-05</td>\n",
       "      <td>4.64</td>\n",
       "      <td>1</td>\n",
       "      <td>194</td>\n",
       "    </tr>\n",
       "    <tr>\n",
       "      <th>4</th>\n",
       "      <td>5022</td>\n",
       "      <td>Entire Apt: Spacious Studio/Loft by central park</td>\n",
       "      <td>7192</td>\n",
       "      <td>Laura</td>\n",
       "      <td>Manhattan</td>\n",
       "      <td>East Harlem</td>\n",
       "      <td>40.79851</td>\n",
       "      <td>-73.94399</td>\n",
       "      <td>Entire home/apt</td>\n",
       "      <td>80</td>\n",
       "      <td>10</td>\n",
       "      <td>9</td>\n",
       "      <td>2018-11-19</td>\n",
       "      <td>0.10</td>\n",
       "      <td>1</td>\n",
       "      <td>0</td>\n",
       "    </tr>\n",
       "  </tbody>\n",
       "</table>\n",
       "</div>"
      ],
      "text/plain": [
       "     id                                              name  host_id  \\\n",
       "0  2539                Clean & quiet apt home by the park     2787   \n",
       "1  2595                             Skylit Midtown Castle     2845   \n",
       "2  3647               THE VILLAGE OF HARLEM....NEW YORK !     4632   \n",
       "3  3831                   Cozy Entire Floor of Brownstone     4869   \n",
       "4  5022  Entire Apt: Spacious Studio/Loft by central park     7192   \n",
       "\n",
       "     host_name neighbourhood_group neighbourhood  latitude  longitude  \\\n",
       "0         John            Brooklyn    Kensington  40.64749  -73.97237   \n",
       "1     Jennifer           Manhattan       Midtown  40.75362  -73.98377   \n",
       "2    Elisabeth           Manhattan        Harlem  40.80902  -73.94190   \n",
       "3  LisaRoxanne            Brooklyn  Clinton Hill  40.68514  -73.95976   \n",
       "4        Laura           Manhattan   East Harlem  40.79851  -73.94399   \n",
       "\n",
       "         room_type  price  minimum_nights  number_of_reviews last_review  \\\n",
       "0     Private room    149               1                  9  2018-10-19   \n",
       "1  Entire home/apt    225               1                 45  2019-05-21   \n",
       "2     Private room    150               3                  0         NaN   \n",
       "3  Entire home/apt     89               1                270  2019-07-05   \n",
       "4  Entire home/apt     80              10                  9  2018-11-19   \n",
       "\n",
       "   reviews_per_month  calculated_host_listings_count  availability_365  \n",
       "0               0.21                               6               365  \n",
       "1               0.38                               2               355  \n",
       "2                NaN                               1               365  \n",
       "3               4.64                               1               194  \n",
       "4               0.10                               1                 0  "
      ]
     },
     "execution_count": 6,
     "metadata": {},
     "output_type": "execute_result"
    }
   ],
   "source": [
    "df.head()"
   ]
  },
  {
   "cell_type": "code",
   "execution_count": 7,
   "id": "4af98411-262d-4f01-8ce5-456d84584da7",
   "metadata": {},
   "outputs": [
    {
     "data": {
      "text/plain": [
       "array(['Brooklyn', 'Manhattan', 'Queens', 'Staten Island', 'Bronx'],\n",
       "      dtype=object)"
      ]
     },
     "execution_count": 7,
     "metadata": {},
     "output_type": "execute_result"
    }
   ],
   "source": [
    "df['neighbourhood_group'].unique()"
   ]
  },
  {
   "cell_type": "code",
   "execution_count": 8,
   "id": "22b9f14e-82cd-44b5-98ef-51c1f7d6b12c",
   "metadata": {},
   "outputs": [
    {
     "data": {
      "text/plain": [
       "array(['Private room', 'Entire home/apt', 'Shared room'], dtype=object)"
      ]
     },
     "execution_count": 8,
     "metadata": {},
     "output_type": "execute_result"
    }
   ],
   "source": [
    "df['room_type'].unique()"
   ]
  },
  {
   "cell_type": "code",
   "execution_count": 9,
   "id": "44b1396a-0049-4429-98de-ef4ed4ba35e3",
   "metadata": {},
   "outputs": [
    {
     "data": {
      "text/plain": [
       "5"
      ]
     },
     "execution_count": 9,
     "metadata": {},
     "output_type": "execute_result"
    }
   ],
   "source": [
    "df[\"neighbourhood_group\"].nunique()"
   ]
  },
  {
   "cell_type": "markdown",
   "id": "fb29cc58-88ef-4499-a966-ea45236f8be6",
   "metadata": {},
   "source": [
    "## 3. Data cleaning and pre-processing"
   ]
  },
  {
   "cell_type": "code",
   "execution_count": 10,
   "id": "4d387f7d-05bf-4b97-a953-296815727890",
   "metadata": {},
   "outputs": [],
   "source": [
    "#renaming all columns\n",
    "rename_col = {'id':'listing_id','name':'listing_name','number_of_reviews':'total_reviews',\n",
    "              'calculated_host_listings_count':'host_listings_count'}\n",
    "df = df.rename(columns = rename_col)"
   ]
  },
  {
   "cell_type": "code",
   "execution_count": 11,
   "id": "b938c6a1-ce62-4e36-9088-693aa1e130bb",
   "metadata": {},
   "outputs": [
    {
     "data": {
      "text/html": [
       "<div>\n",
       "<style scoped>\n",
       "    .dataframe tbody tr th:only-of-type {\n",
       "        vertical-align: middle;\n",
       "    }\n",
       "\n",
       "    .dataframe tbody tr th {\n",
       "        vertical-align: top;\n",
       "    }\n",
       "\n",
       "    .dataframe thead th {\n",
       "        text-align: right;\n",
       "    }\n",
       "</style>\n",
       "<table border=\"1\" class=\"dataframe\">\n",
       "  <thead>\n",
       "    <tr style=\"text-align: right;\">\n",
       "      <th></th>\n",
       "      <th>listing_id</th>\n",
       "      <th>listing_name</th>\n",
       "      <th>host_id</th>\n",
       "      <th>host_name</th>\n",
       "      <th>neighbourhood_group</th>\n",
       "      <th>neighbourhood</th>\n",
       "      <th>latitude</th>\n",
       "      <th>longitude</th>\n",
       "      <th>room_type</th>\n",
       "      <th>price</th>\n",
       "      <th>minimum_nights</th>\n",
       "      <th>total_reviews</th>\n",
       "      <th>last_review</th>\n",
       "      <th>reviews_per_month</th>\n",
       "      <th>host_listings_count</th>\n",
       "      <th>availability_365</th>\n",
       "    </tr>\n",
       "  </thead>\n",
       "  <tbody>\n",
       "    <tr>\n",
       "      <th>0</th>\n",
       "      <td>2539</td>\n",
       "      <td>Clean &amp; quiet apt home by the park</td>\n",
       "      <td>2787</td>\n",
       "      <td>John</td>\n",
       "      <td>Brooklyn</td>\n",
       "      <td>Kensington</td>\n",
       "      <td>40.64749</td>\n",
       "      <td>-73.97237</td>\n",
       "      <td>Private room</td>\n",
       "      <td>149</td>\n",
       "      <td>1</td>\n",
       "      <td>9</td>\n",
       "      <td>2018-10-19</td>\n",
       "      <td>0.21</td>\n",
       "      <td>6</td>\n",
       "      <td>365</td>\n",
       "    </tr>\n",
       "    <tr>\n",
       "      <th>1</th>\n",
       "      <td>2595</td>\n",
       "      <td>Skylit Midtown Castle</td>\n",
       "      <td>2845</td>\n",
       "      <td>Jennifer</td>\n",
       "      <td>Manhattan</td>\n",
       "      <td>Midtown</td>\n",
       "      <td>40.75362</td>\n",
       "      <td>-73.98377</td>\n",
       "      <td>Entire home/apt</td>\n",
       "      <td>225</td>\n",
       "      <td>1</td>\n",
       "      <td>45</td>\n",
       "      <td>2019-05-21</td>\n",
       "      <td>0.38</td>\n",
       "      <td>2</td>\n",
       "      <td>355</td>\n",
       "    </tr>\n",
       "    <tr>\n",
       "      <th>2</th>\n",
       "      <td>3647</td>\n",
       "      <td>THE VILLAGE OF HARLEM....NEW YORK !</td>\n",
       "      <td>4632</td>\n",
       "      <td>Elisabeth</td>\n",
       "      <td>Manhattan</td>\n",
       "      <td>Harlem</td>\n",
       "      <td>40.80902</td>\n",
       "      <td>-73.94190</td>\n",
       "      <td>Private room</td>\n",
       "      <td>150</td>\n",
       "      <td>3</td>\n",
       "      <td>0</td>\n",
       "      <td>NaN</td>\n",
       "      <td>NaN</td>\n",
       "      <td>1</td>\n",
       "      <td>365</td>\n",
       "    </tr>\n",
       "    <tr>\n",
       "      <th>3</th>\n",
       "      <td>3831</td>\n",
       "      <td>Cozy Entire Floor of Brownstone</td>\n",
       "      <td>4869</td>\n",
       "      <td>LisaRoxanne</td>\n",
       "      <td>Brooklyn</td>\n",
       "      <td>Clinton Hill</td>\n",
       "      <td>40.68514</td>\n",
       "      <td>-73.95976</td>\n",
       "      <td>Entire home/apt</td>\n",
       "      <td>89</td>\n",
       "      <td>1</td>\n",
       "      <td>270</td>\n",
       "      <td>2019-07-05</td>\n",
       "      <td>4.64</td>\n",
       "      <td>1</td>\n",
       "      <td>194</td>\n",
       "    </tr>\n",
       "    <tr>\n",
       "      <th>4</th>\n",
       "      <td>5022</td>\n",
       "      <td>Entire Apt: Spacious Studio/Loft by central park</td>\n",
       "      <td>7192</td>\n",
       "      <td>Laura</td>\n",
       "      <td>Manhattan</td>\n",
       "      <td>East Harlem</td>\n",
       "      <td>40.79851</td>\n",
       "      <td>-73.94399</td>\n",
       "      <td>Entire home/apt</td>\n",
       "      <td>80</td>\n",
       "      <td>10</td>\n",
       "      <td>9</td>\n",
       "      <td>2018-11-19</td>\n",
       "      <td>0.10</td>\n",
       "      <td>1</td>\n",
       "      <td>0</td>\n",
       "    </tr>\n",
       "  </tbody>\n",
       "</table>\n",
       "</div>"
      ],
      "text/plain": [
       "   listing_id                                      listing_name  host_id  \\\n",
       "0        2539                Clean & quiet apt home by the park     2787   \n",
       "1        2595                             Skylit Midtown Castle     2845   \n",
       "2        3647               THE VILLAGE OF HARLEM....NEW YORK !     4632   \n",
       "3        3831                   Cozy Entire Floor of Brownstone     4869   \n",
       "4        5022  Entire Apt: Spacious Studio/Loft by central park     7192   \n",
       "\n",
       "     host_name neighbourhood_group neighbourhood  latitude  longitude  \\\n",
       "0         John            Brooklyn    Kensington  40.64749  -73.97237   \n",
       "1     Jennifer           Manhattan       Midtown  40.75362  -73.98377   \n",
       "2    Elisabeth           Manhattan        Harlem  40.80902  -73.94190   \n",
       "3  LisaRoxanne            Brooklyn  Clinton Hill  40.68514  -73.95976   \n",
       "4        Laura           Manhattan   East Harlem  40.79851  -73.94399   \n",
       "\n",
       "         room_type  price  minimum_nights  total_reviews last_review  \\\n",
       "0     Private room    149               1              9  2018-10-19   \n",
       "1  Entire home/apt    225               1             45  2019-05-21   \n",
       "2     Private room    150               3              0         NaN   \n",
       "3  Entire home/apt     89               1            270  2019-07-05   \n",
       "4  Entire home/apt     80              10              9  2018-11-19   \n",
       "\n",
       "   reviews_per_month  host_listings_count  availability_365  \n",
       "0               0.21                    6               365  \n",
       "1               0.38                    2               355  \n",
       "2                NaN                    1               365  \n",
       "3               4.64                    1               194  \n",
       "4               0.10                    1                 0  "
      ]
     },
     "execution_count": 11,
     "metadata": {},
     "output_type": "execute_result"
    }
   ],
   "source": [
    "df = df.rename(columns = rename_col)\n",
    "df.head()"
   ]
  },
  {
   "cell_type": "code",
   "execution_count": 12,
   "id": "1b16359e-c5de-4016-9a1e-73094ce2c32a",
   "metadata": {},
   "outputs": [
    {
     "data": {
      "text/plain": [
       "(48895, 16)"
      ]
     },
     "execution_count": 12,
     "metadata": {},
     "output_type": "execute_result"
    }
   ],
   "source": [
    "df.shape"
   ]
  },
  {
   "cell_type": "code",
   "execution_count": 13,
   "id": "5363b6d2-f018-4607-b471-17d6dd58d5a5",
   "metadata": {},
   "outputs": [
    {
     "data": {
      "text/plain": [
       "listing_id                 0\n",
       "listing_name              16\n",
       "host_id                    0\n",
       "host_name                 21\n",
       "neighbourhood_group        0\n",
       "neighbourhood              0\n",
       "latitude                   0\n",
       "longitude                  0\n",
       "room_type                  0\n",
       "price                      0\n",
       "minimum_nights             0\n",
       "total_reviews              0\n",
       "last_review            10052\n",
       "reviews_per_month      10052\n",
       "host_listings_count        0\n",
       "availability_365           0\n",
       "dtype: int64"
      ]
     },
     "execution_count": 13,
     "metadata": {},
     "output_type": "execute_result"
    }
   ],
   "source": [
    "#checking null values\n",
    "df.isnull().sum()"
   ]
  },
  {
   "cell_type": "code",
   "execution_count": 14,
   "id": "e082aa9f-6fe3-48dd-b86b-95d9f8561cfa",
   "metadata": {},
   "outputs": [
    {
     "name": "stdout",
     "output_type": "stream",
     "text": [
      "<class 'pandas.core.frame.DataFrame'>\n",
      "RangeIndex: 48895 entries, 0 to 48894\n",
      "Data columns (total 16 columns):\n",
      " #   Column               Non-Null Count  Dtype  \n",
      "---  ------               --------------  -----  \n",
      " 0   listing_id           48895 non-null  int64  \n",
      " 1   listing_name         48879 non-null  object \n",
      " 2   host_id              48895 non-null  int64  \n",
      " 3   host_name            48874 non-null  object \n",
      " 4   neighbourhood_group  48895 non-null  object \n",
      " 5   neighbourhood        48895 non-null  object \n",
      " 6   latitude             48895 non-null  float64\n",
      " 7   longitude            48895 non-null  float64\n",
      " 8   room_type            48895 non-null  object \n",
      " 9   price                48895 non-null  int64  \n",
      " 10  minimum_nights       48895 non-null  int64  \n",
      " 11  total_reviews        48895 non-null  int64  \n",
      " 12  last_review          38843 non-null  object \n",
      " 13  reviews_per_month    38843 non-null  float64\n",
      " 14  host_listings_count  48895 non-null  int64  \n",
      " 15  availability_365     48895 non-null  int64  \n",
      "dtypes: float64(3), int64(7), object(6)\n",
      "memory usage: 6.0+ MB\n"
     ]
    }
   ],
   "source": [
    "df.info()"
   ]
  },
  {
   "cell_type": "code",
   "execution_count": 15,
   "id": "7ccba6c8-28cb-465f-b846-f569ed4ef0ac",
   "metadata": {},
   "outputs": [
    {
     "data": {
      "text/html": [
       "<div>\n",
       "<style scoped>\n",
       "    .dataframe tbody tr th:only-of-type {\n",
       "        vertical-align: middle;\n",
       "    }\n",
       "\n",
       "    .dataframe tbody tr th {\n",
       "        vertical-align: top;\n",
       "    }\n",
       "\n",
       "    .dataframe thead th {\n",
       "        text-align: right;\n",
       "    }\n",
       "</style>\n",
       "<table border=\"1\" class=\"dataframe\">\n",
       "  <thead>\n",
       "    <tr style=\"text-align: right;\">\n",
       "      <th></th>\n",
       "      <th>listing_id</th>\n",
       "      <th>listing_name</th>\n",
       "      <th>host_id</th>\n",
       "      <th>host_name</th>\n",
       "      <th>neighbourhood_group</th>\n",
       "      <th>neighbourhood</th>\n",
       "      <th>latitude</th>\n",
       "      <th>longitude</th>\n",
       "      <th>room_type</th>\n",
       "      <th>price</th>\n",
       "      <th>minimum_nights</th>\n",
       "      <th>total_reviews</th>\n",
       "      <th>last_review</th>\n",
       "      <th>reviews_per_month</th>\n",
       "      <th>host_listings_count</th>\n",
       "      <th>availability_365</th>\n",
       "    </tr>\n",
       "  </thead>\n",
       "  <tbody>\n",
       "    <tr>\n",
       "      <th>0</th>\n",
       "      <td>2539</td>\n",
       "      <td>Clean &amp; quiet apt home by the park</td>\n",
       "      <td>2787</td>\n",
       "      <td>John</td>\n",
       "      <td>Brooklyn</td>\n",
       "      <td>Kensington</td>\n",
       "      <td>40.64749</td>\n",
       "      <td>-73.97237</td>\n",
       "      <td>Private room</td>\n",
       "      <td>149</td>\n",
       "      <td>1</td>\n",
       "      <td>9</td>\n",
       "      <td>2018-10-19</td>\n",
       "      <td>0.21</td>\n",
       "      <td>6</td>\n",
       "      <td>365</td>\n",
       "    </tr>\n",
       "    <tr>\n",
       "      <th>1</th>\n",
       "      <td>2595</td>\n",
       "      <td>Skylit Midtown Castle</td>\n",
       "      <td>2845</td>\n",
       "      <td>Jennifer</td>\n",
       "      <td>Manhattan</td>\n",
       "      <td>Midtown</td>\n",
       "      <td>40.75362</td>\n",
       "      <td>-73.98377</td>\n",
       "      <td>Entire home/apt</td>\n",
       "      <td>225</td>\n",
       "      <td>1</td>\n",
       "      <td>45</td>\n",
       "      <td>2019-05-21</td>\n",
       "      <td>0.38</td>\n",
       "      <td>2</td>\n",
       "      <td>355</td>\n",
       "    </tr>\n",
       "    <tr>\n",
       "      <th>2</th>\n",
       "      <td>3647</td>\n",
       "      <td>THE VILLAGE OF HARLEM....NEW YORK !</td>\n",
       "      <td>4632</td>\n",
       "      <td>Elisabeth</td>\n",
       "      <td>Manhattan</td>\n",
       "      <td>Harlem</td>\n",
       "      <td>40.80902</td>\n",
       "      <td>-73.94190</td>\n",
       "      <td>Private room</td>\n",
       "      <td>150</td>\n",
       "      <td>3</td>\n",
       "      <td>0</td>\n",
       "      <td>NaN</td>\n",
       "      <td>NaN</td>\n",
       "      <td>1</td>\n",
       "      <td>365</td>\n",
       "    </tr>\n",
       "    <tr>\n",
       "      <th>3</th>\n",
       "      <td>3831</td>\n",
       "      <td>Cozy Entire Floor of Brownstone</td>\n",
       "      <td>4869</td>\n",
       "      <td>LisaRoxanne</td>\n",
       "      <td>Brooklyn</td>\n",
       "      <td>Clinton Hill</td>\n",
       "      <td>40.68514</td>\n",
       "      <td>-73.95976</td>\n",
       "      <td>Entire home/apt</td>\n",
       "      <td>89</td>\n",
       "      <td>1</td>\n",
       "      <td>270</td>\n",
       "      <td>2019-07-05</td>\n",
       "      <td>4.64</td>\n",
       "      <td>1</td>\n",
       "      <td>194</td>\n",
       "    </tr>\n",
       "    <tr>\n",
       "      <th>4</th>\n",
       "      <td>5022</td>\n",
       "      <td>Entire Apt: Spacious Studio/Loft by central park</td>\n",
       "      <td>7192</td>\n",
       "      <td>Laura</td>\n",
       "      <td>Manhattan</td>\n",
       "      <td>East Harlem</td>\n",
       "      <td>40.79851</td>\n",
       "      <td>-73.94399</td>\n",
       "      <td>Entire home/apt</td>\n",
       "      <td>80</td>\n",
       "      <td>10</td>\n",
       "      <td>9</td>\n",
       "      <td>2018-11-19</td>\n",
       "      <td>0.10</td>\n",
       "      <td>1</td>\n",
       "      <td>0</td>\n",
       "    </tr>\n",
       "  </tbody>\n",
       "</table>\n",
       "</div>"
      ],
      "text/plain": [
       "   listing_id                                      listing_name  host_id  \\\n",
       "0        2539                Clean & quiet apt home by the park     2787   \n",
       "1        2595                             Skylit Midtown Castle     2845   \n",
       "2        3647               THE VILLAGE OF HARLEM....NEW YORK !     4632   \n",
       "3        3831                   Cozy Entire Floor of Brownstone     4869   \n",
       "4        5022  Entire Apt: Spacious Studio/Loft by central park     7192   \n",
       "\n",
       "     host_name neighbourhood_group neighbourhood  latitude  longitude  \\\n",
       "0         John            Brooklyn    Kensington  40.64749  -73.97237   \n",
       "1     Jennifer           Manhattan       Midtown  40.75362  -73.98377   \n",
       "2    Elisabeth           Manhattan        Harlem  40.80902  -73.94190   \n",
       "3  LisaRoxanne            Brooklyn  Clinton Hill  40.68514  -73.95976   \n",
       "4        Laura           Manhattan   East Harlem  40.79851  -73.94399   \n",
       "\n",
       "         room_type  price  minimum_nights  total_reviews last_review  \\\n",
       "0     Private room    149               1              9  2018-10-19   \n",
       "1  Entire home/apt    225               1             45  2019-05-21   \n",
       "2     Private room    150               3              0         NaN   \n",
       "3  Entire home/apt     89               1            270  2019-07-05   \n",
       "4  Entire home/apt     80              10              9  2018-11-19   \n",
       "\n",
       "   reviews_per_month  host_listings_count  availability_365  \n",
       "0               0.21                    6               365  \n",
       "1               0.38                    2               355  \n",
       "2                NaN                    1               365  \n",
       "3               4.64                    1               194  \n",
       "4               0.10                    1                 0  "
      ]
     },
     "execution_count": 15,
     "metadata": {},
     "output_type": "execute_result"
    }
   ],
   "source": [
    "df.head()"
   ]
  },
  {
   "cell_type": "code",
   "execution_count": 16,
   "id": "fed96f64-5a88-416f-8dd5-e419fc489383",
   "metadata": {
    "scrolled": true
   },
   "outputs": [
    {
     "data": {
      "text/html": [
       "<div>\n",
       "<style scoped>\n",
       "    .dataframe tbody tr th:only-of-type {\n",
       "        vertical-align: middle;\n",
       "    }\n",
       "\n",
       "    .dataframe tbody tr th {\n",
       "        vertical-align: top;\n",
       "    }\n",
       "\n",
       "    .dataframe thead th {\n",
       "        text-align: right;\n",
       "    }\n",
       "</style>\n",
       "<table border=\"1\" class=\"dataframe\">\n",
       "  <thead>\n",
       "    <tr style=\"text-align: right;\">\n",
       "      <th></th>\n",
       "      <th>listing_id</th>\n",
       "      <th>listing_name</th>\n",
       "      <th>host_id</th>\n",
       "      <th>host_name</th>\n",
       "      <th>neighbourhood_group</th>\n",
       "      <th>neighbourhood</th>\n",
       "      <th>latitude</th>\n",
       "      <th>longitude</th>\n",
       "      <th>room_type</th>\n",
       "      <th>price</th>\n",
       "      <th>minimum_nights</th>\n",
       "      <th>total_reviews</th>\n",
       "      <th>reviews_per_month</th>\n",
       "      <th>host_listings_count</th>\n",
       "      <th>availability_365</th>\n",
       "    </tr>\n",
       "  </thead>\n",
       "  <tbody>\n",
       "    <tr>\n",
       "      <th>0</th>\n",
       "      <td>2539</td>\n",
       "      <td>Clean &amp; quiet apt home by the park</td>\n",
       "      <td>2787</td>\n",
       "      <td>John</td>\n",
       "      <td>Brooklyn</td>\n",
       "      <td>Kensington</td>\n",
       "      <td>40.64749</td>\n",
       "      <td>-73.97237</td>\n",
       "      <td>Private room</td>\n",
       "      <td>149</td>\n",
       "      <td>1</td>\n",
       "      <td>9</td>\n",
       "      <td>0.21</td>\n",
       "      <td>6</td>\n",
       "      <td>365</td>\n",
       "    </tr>\n",
       "    <tr>\n",
       "      <th>1</th>\n",
       "      <td>2595</td>\n",
       "      <td>Skylit Midtown Castle</td>\n",
       "      <td>2845</td>\n",
       "      <td>Jennifer</td>\n",
       "      <td>Manhattan</td>\n",
       "      <td>Midtown</td>\n",
       "      <td>40.75362</td>\n",
       "      <td>-73.98377</td>\n",
       "      <td>Entire home/apt</td>\n",
       "      <td>225</td>\n",
       "      <td>1</td>\n",
       "      <td>45</td>\n",
       "      <td>0.38</td>\n",
       "      <td>2</td>\n",
       "      <td>355</td>\n",
       "    </tr>\n",
       "    <tr>\n",
       "      <th>2</th>\n",
       "      <td>3647</td>\n",
       "      <td>THE VILLAGE OF HARLEM....NEW YORK !</td>\n",
       "      <td>4632</td>\n",
       "      <td>Elisabeth</td>\n",
       "      <td>Manhattan</td>\n",
       "      <td>Harlem</td>\n",
       "      <td>40.80902</td>\n",
       "      <td>-73.94190</td>\n",
       "      <td>Private room</td>\n",
       "      <td>150</td>\n",
       "      <td>3</td>\n",
       "      <td>0</td>\n",
       "      <td>NaN</td>\n",
       "      <td>1</td>\n",
       "      <td>365</td>\n",
       "    </tr>\n",
       "    <tr>\n",
       "      <th>3</th>\n",
       "      <td>3831</td>\n",
       "      <td>Cozy Entire Floor of Brownstone</td>\n",
       "      <td>4869</td>\n",
       "      <td>LisaRoxanne</td>\n",
       "      <td>Brooklyn</td>\n",
       "      <td>Clinton Hill</td>\n",
       "      <td>40.68514</td>\n",
       "      <td>-73.95976</td>\n",
       "      <td>Entire home/apt</td>\n",
       "      <td>89</td>\n",
       "      <td>1</td>\n",
       "      <td>270</td>\n",
       "      <td>4.64</td>\n",
       "      <td>1</td>\n",
       "      <td>194</td>\n",
       "    </tr>\n",
       "    <tr>\n",
       "      <th>4</th>\n",
       "      <td>5022</td>\n",
       "      <td>Entire Apt: Spacious Studio/Loft by central park</td>\n",
       "      <td>7192</td>\n",
       "      <td>Laura</td>\n",
       "      <td>Manhattan</td>\n",
       "      <td>East Harlem</td>\n",
       "      <td>40.79851</td>\n",
       "      <td>-73.94399</td>\n",
       "      <td>Entire home/apt</td>\n",
       "      <td>80</td>\n",
       "      <td>10</td>\n",
       "      <td>9</td>\n",
       "      <td>0.10</td>\n",
       "      <td>1</td>\n",
       "      <td>0</td>\n",
       "    </tr>\n",
       "  </tbody>\n",
       "</table>\n",
       "</div>"
      ],
      "text/plain": [
       "   listing_id                                      listing_name  host_id  \\\n",
       "0        2539                Clean & quiet apt home by the park     2787   \n",
       "1        2595                             Skylit Midtown Castle     2845   \n",
       "2        3647               THE VILLAGE OF HARLEM....NEW YORK !     4632   \n",
       "3        3831                   Cozy Entire Floor of Brownstone     4869   \n",
       "4        5022  Entire Apt: Spacious Studio/Loft by central park     7192   \n",
       "\n",
       "     host_name neighbourhood_group neighbourhood  latitude  longitude  \\\n",
       "0         John            Brooklyn    Kensington  40.64749  -73.97237   \n",
       "1     Jennifer           Manhattan       Midtown  40.75362  -73.98377   \n",
       "2    Elisabeth           Manhattan        Harlem  40.80902  -73.94190   \n",
       "3  LisaRoxanne            Brooklyn  Clinton Hill  40.68514  -73.95976   \n",
       "4        Laura           Manhattan   East Harlem  40.79851  -73.94399   \n",
       "\n",
       "         room_type  price  minimum_nights  total_reviews  reviews_per_month  \\\n",
       "0     Private room    149               1              9               0.21   \n",
       "1  Entire home/apt    225               1             45               0.38   \n",
       "2     Private room    150               3              0                NaN   \n",
       "3  Entire home/apt     89               1            270               4.64   \n",
       "4  Entire home/apt     80              10              9               0.10   \n",
       "\n",
       "   host_listings_count  availability_365  \n",
       "0                    6               365  \n",
       "1                    2               355  \n",
       "2                    1               365  \n",
       "3                    1               194  \n",
       "4                    1                 0  "
      ]
     },
     "execution_count": 16,
     "metadata": {},
     "output_type": "execute_result"
    }
   ],
   "source": [
    "#dropping unnecessary columns\n",
    "df = df.drop(['last_review'], axis = 1)\n",
    "df.head()"
   ]
  },
  {
   "cell_type": "code",
   "execution_count": 17,
   "id": "ff3290f1-e82d-445b-b441-ec0297457cf8",
   "metadata": {},
   "outputs": [
    {
     "data": {
      "text/plain": [
       "listing_id                 0\n",
       "listing_name              16\n",
       "host_id                    0\n",
       "host_name                 21\n",
       "neighbourhood_group        0\n",
       "neighbourhood              0\n",
       "latitude                   0\n",
       "longitude                  0\n",
       "room_type                  0\n",
       "price                      0\n",
       "minimum_nights             0\n",
       "total_reviews              0\n",
       "reviews_per_month      10052\n",
       "host_listings_count        0\n",
       "availability_365           0\n",
       "dtype: int64"
      ]
     },
     "execution_count": 17,
     "metadata": {},
     "output_type": "execute_result"
    }
   ],
   "source": [
    "df.isnull().sum()"
   ]
  },
  {
   "cell_type": "code",
   "execution_count": 18,
   "id": "1791a38f-8edf-401f-9063-683335c8144b",
   "metadata": {},
   "outputs": [],
   "source": [
    "#filling null values with '0'\n",
    "df['reviews_per_month'] = df['reviews_per_month'].fillna(0)"
   ]
  },
  {
   "cell_type": "code",
   "execution_count": 19,
   "id": "3bf62290-0dfe-4ee8-acfb-9660f0b7dafa",
   "metadata": {},
   "outputs": [
    {
     "data": {
      "text/plain": [
       "listing_id              0\n",
       "listing_name           16\n",
       "host_id                 0\n",
       "host_name              21\n",
       "neighbourhood_group     0\n",
       "neighbourhood           0\n",
       "latitude                0\n",
       "longitude               0\n",
       "room_type               0\n",
       "price                   0\n",
       "minimum_nights          0\n",
       "total_reviews           0\n",
       "reviews_per_month       0\n",
       "host_listings_count     0\n",
       "availability_365        0\n",
       "dtype: int64"
      ]
     },
     "execution_count": 19,
     "metadata": {},
     "output_type": "execute_result"
    }
   ],
   "source": [
    "df.isnull().sum()"
   ]
  },
  {
   "cell_type": "code",
   "execution_count": 20,
   "id": "2f4008fc-3807-4c1f-9abd-b5cbcc831a80",
   "metadata": {},
   "outputs": [],
   "source": [
    "df.dropna(inplace = True)"
   ]
  },
  {
   "cell_type": "code",
   "execution_count": 21,
   "id": "d20eb60f-de14-4895-a652-104c3411cd26",
   "metadata": {},
   "outputs": [
    {
     "data": {
      "text/plain": [
       "0"
      ]
     },
     "execution_count": 21,
     "metadata": {},
     "output_type": "execute_result"
    }
   ],
   "source": [
    "df.duplicated().sum()"
   ]
  },
  {
   "cell_type": "code",
   "execution_count": 22,
   "id": "bd76de0a-7754-47b3-bb16-764920ee70b3",
   "metadata": {},
   "outputs": [
    {
     "data": {
      "text/plain": [
       "price\n",
       "100    2048\n",
       "150    2046\n",
       "50     1531\n",
       "60     1458\n",
       "200    1400\n",
       "       ... \n",
       "780       1\n",
       "386       1\n",
       "888       1\n",
       "483       1\n",
       "338       1\n",
       "Name: count, Length: 674, dtype: int64"
      ]
     },
     "execution_count": 22,
     "metadata": {},
     "output_type": "execute_result"
    }
   ],
   "source": [
    "df['price'].value_counts()"
   ]
  },
  {
   "cell_type": "markdown",
   "id": "3d80d5a8-6f63-460b-909a-3901ed3e7299",
   "metadata": {},
   "source": [
    "## 4. EDA (Exploratory data analysis)"
   ]
  },
  {
   "cell_type": "markdown",
   "id": "da45448b-bf49-4ee2-b07f-a6aa63850e70",
   "metadata": {},
   "source": [
    "#### 4.1 Boxplot for Price "
   ]
  },
  {
   "cell_type": "code",
   "execution_count": 23,
   "id": "eeb7d2c5-8569-4cc8-ba87-d1eac63f724b",
   "metadata": {},
   "outputs": [
    {
     "data": {
      "image/png": "[encoded data removed]",
      "text/plain": [
       "<Figure size 640x480 with 1 Axes>"
      ]
     },
     "metadata": {},
     "output_type": "display_data"
    }
   ],
   "source": [
    "plt.boxplot(df['price'])\n",
    "plt.show()"
   ]
  },
  {
   "cell_type": "markdown",
   "id": "d2d8ac26-d0a3-46bc-8df4-3e5008988c0e",
   "metadata": {},
   "source": [
    "#### 4.2 Calculating range of the price "
   ]
  },
  {
   "cell_type": "code",
   "execution_count": 24,
   "id": "83ec7885-7274-4e53-961e-da663ffaadf7",
   "metadata": {},
   "outputs": [
    {
     "name": "stdout",
     "output_type": "stream",
     "text": [
      "max value 10000, min value 10000, Range of price is0\n"
     ]
    }
   ],
   "source": [
    "max = df['price'].max()\n",
    "min = df['price'].max()\n",
    "Range = max - min\n",
    "print(f\"max value {max}, min value {min}, Range of price is{Range}\")"
   ]
  },
  {
   "cell_type": "markdown",
   "id": "b8eecd87-5ca3-4b44-bf67-4126654ef427",
   "metadata": {},
   "source": [
    "#### 4.3 Interquartile range of price"
   ]
  },
  {
   "cell_type": "code",
   "execution_count": 25,
   "id": "23cf0d6d-0a53-47f3-971f-8961bcbc6d38",
   "metadata": {},
   "outputs": [
    {
     "name": "stdout",
     "output_type": "stream",
     "text": [
      "69.0 175.0 106.0\n"
     ]
    }
   ],
   "source": [
    "Q1 = df['price'].quantile(0.25)\n",
    "Q3 = df['price'].quantile(0.75)\n",
    "IQR = Q3-Q1\n",
    "print(Q1, Q3, IQR)"
   ]
  },
  {
   "cell_type": "markdown",
   "id": "38153f49-066a-4f04-aa50-d606718f54c6",
   "metadata": {},
   "source": [
    "#### 4.4 Percentile value for price"
   ]
  },
  {
   "cell_type": "code",
   "execution_count": 26,
   "id": "e5c84d91-5658-42ef-b94c-8070c3f306ca",
   "metadata": {},
   "outputs": [
    {
     "name": "stdout",
     "output_type": "stream",
     "text": [
      "69.0 175.0\n"
     ]
    }
   ],
   "source": [
    "twe=np.percentile(df[\"price\"],25)\n",
    "sev=np.percentile(df[\"price\"],75)\n",
    "print(twe,sev)"
   ]
  },
  {
   "cell_type": "markdown",
   "id": "8528eedc-f99a-40fc-9862-e8b98c224d6e",
   "metadata": {},
   "source": [
    "#### 4.5 Outlier detection"
   ]
  },
  {
   "cell_type": "code",
   "execution_count": 27,
   "id": "e53f3cbf-ec30-4bb5-8ab0-e59280089881",
   "metadata": {},
   "outputs": [
    {
     "name": "stdout",
     "output_type": "stream",
     "text": [
      "334.0 -90.0\n"
     ]
    }
   ],
   "source": [
    "uf=Q3+1.5*IQR\n",
    "lf=Q1-1.5*IQR\n",
    "print(uf,lf)"
   ]
  },
  {
   "cell_type": "code",
   "execution_count": 28,
   "id": "114c777b-1c41-475f-885b-3432b5df5ed9",
   "metadata": {},
   "outputs": [
    {
     "data": {
      "text/html": [
       "<div>\n",
       "<style scoped>\n",
       "    .dataframe tbody tr th:only-of-type {\n",
       "        vertical-align: middle;\n",
       "    }\n",
       "\n",
       "    .dataframe tbody tr th {\n",
       "        vertical-align: top;\n",
       "    }\n",
       "\n",
       "    .dataframe thead th {\n",
       "        text-align: right;\n",
       "    }\n",
       "</style>\n",
       "<table border=\"1\" class=\"dataframe\">\n",
       "  <thead>\n",
       "    <tr style=\"text-align: right;\">\n",
       "      <th></th>\n",
       "      <th>listing_id</th>\n",
       "      <th>listing_name</th>\n",
       "      <th>host_id</th>\n",
       "      <th>host_name</th>\n",
       "      <th>neighbourhood_group</th>\n",
       "      <th>neighbourhood</th>\n",
       "      <th>latitude</th>\n",
       "      <th>longitude</th>\n",
       "      <th>room_type</th>\n",
       "      <th>price</th>\n",
       "      <th>minimum_nights</th>\n",
       "      <th>total_reviews</th>\n",
       "      <th>reviews_per_month</th>\n",
       "      <th>host_listings_count</th>\n",
       "      <th>availability_365</th>\n",
       "    </tr>\n",
       "  </thead>\n",
       "  <tbody>\n",
       "    <tr>\n",
       "      <th>0</th>\n",
       "      <td>2539</td>\n",
       "      <td>Clean &amp; quiet apt home by the park</td>\n",
       "      <td>2787</td>\n",
       "      <td>John</td>\n",
       "      <td>Brooklyn</td>\n",
       "      <td>Kensington</td>\n",
       "      <td>40.64749</td>\n",
       "      <td>-73.97237</td>\n",
       "      <td>Private room</td>\n",
       "      <td>149</td>\n",
       "      <td>1</td>\n",
       "      <td>9</td>\n",
       "      <td>0.21</td>\n",
       "      <td>6</td>\n",
       "      <td>365</td>\n",
       "    </tr>\n",
       "    <tr>\n",
       "      <th>1</th>\n",
       "      <td>2595</td>\n",
       "      <td>Skylit Midtown Castle</td>\n",
       "      <td>2845</td>\n",
       "      <td>Jennifer</td>\n",
       "      <td>Manhattan</td>\n",
       "      <td>Midtown</td>\n",
       "      <td>40.75362</td>\n",
       "      <td>-73.98377</td>\n",
       "      <td>Entire home/apt</td>\n",
       "      <td>225</td>\n",
       "      <td>1</td>\n",
       "      <td>45</td>\n",
       "      <td>0.38</td>\n",
       "      <td>2</td>\n",
       "      <td>355</td>\n",
       "    </tr>\n",
       "    <tr>\n",
       "      <th>2</th>\n",
       "      <td>3647</td>\n",
       "      <td>THE VILLAGE OF HARLEM....NEW YORK !</td>\n",
       "      <td>4632</td>\n",
       "      <td>Elisabeth</td>\n",
       "      <td>Manhattan</td>\n",
       "      <td>Harlem</td>\n",
       "      <td>40.80902</td>\n",
       "      <td>-73.94190</td>\n",
       "      <td>Private room</td>\n",
       "      <td>150</td>\n",
       "      <td>3</td>\n",
       "      <td>0</td>\n",
       "      <td>0.00</td>\n",
       "      <td>1</td>\n",
       "      <td>365</td>\n",
       "    </tr>\n",
       "    <tr>\n",
       "      <th>3</th>\n",
       "      <td>3831</td>\n",
       "      <td>Cozy Entire Floor of Brownstone</td>\n",
       "      <td>4869</td>\n",
       "      <td>LisaRoxanne</td>\n",
       "      <td>Brooklyn</td>\n",
       "      <td>Clinton Hill</td>\n",
       "      <td>40.68514</td>\n",
       "      <td>-73.95976</td>\n",
       "      <td>Entire home/apt</td>\n",
       "      <td>89</td>\n",
       "      <td>1</td>\n",
       "      <td>270</td>\n",
       "      <td>4.64</td>\n",
       "      <td>1</td>\n",
       "      <td>194</td>\n",
       "    </tr>\n",
       "    <tr>\n",
       "      <th>4</th>\n",
       "      <td>5022</td>\n",
       "      <td>Entire Apt: Spacious Studio/Loft by central park</td>\n",
       "      <td>7192</td>\n",
       "      <td>Laura</td>\n",
       "      <td>Manhattan</td>\n",
       "      <td>East Harlem</td>\n",
       "      <td>40.79851</td>\n",
       "      <td>-73.94399</td>\n",
       "      <td>Entire home/apt</td>\n",
       "      <td>80</td>\n",
       "      <td>10</td>\n",
       "      <td>9</td>\n",
       "      <td>0.10</td>\n",
       "      <td>1</td>\n",
       "      <td>0</td>\n",
       "    </tr>\n",
       "  </tbody>\n",
       "</table>\n",
       "</div>"
      ],
      "text/plain": [
       "   listing_id                                      listing_name  host_id  \\\n",
       "0        2539                Clean & quiet apt home by the park     2787   \n",
       "1        2595                             Skylit Midtown Castle     2845   \n",
       "2        3647               THE VILLAGE OF HARLEM....NEW YORK !     4632   \n",
       "3        3831                   Cozy Entire Floor of Brownstone     4869   \n",
       "4        5022  Entire Apt: Spacious Studio/Loft by central park     7192   \n",
       "\n",
       "     host_name neighbourhood_group neighbourhood  latitude  longitude  \\\n",
       "0         John            Brooklyn    Kensington  40.64749  -73.97237   \n",
       "1     Jennifer           Manhattan       Midtown  40.75362  -73.98377   \n",
       "2    Elisabeth           Manhattan        Harlem  40.80902  -73.94190   \n",
       "3  LisaRoxanne            Brooklyn  Clinton Hill  40.68514  -73.95976   \n",
       "4        Laura           Manhattan   East Harlem  40.79851  -73.94399   \n",
       "\n",
       "         room_type  price  minimum_nights  total_reviews  reviews_per_month  \\\n",
       "0     Private room    149               1              9               0.21   \n",
       "1  Entire home/apt    225               1             45               0.38   \n",
       "2     Private room    150               3              0               0.00   \n",
       "3  Entire home/apt     89               1            270               4.64   \n",
       "4  Entire home/apt     80              10              9               0.10   \n",
       "\n",
       "   host_listings_count  availability_365  \n",
       "0                    6               365  \n",
       "1                    2               355  \n",
       "2                    1               365  \n",
       "3                    1               194  \n",
       "4                    1                 0  "
      ]
     },
     "execution_count": 28,
     "metadata": {},
     "output_type": "execute_result"
    }
   ],
   "source": [
    "df=df[(df[\"price\"]<=uf) & (df[\"price\"]>=lf)]\n",
    "df.head()"
   ]
  },
  {
   "cell_type": "code",
   "execution_count": 29,
   "id": "f2856cc2-986b-4596-8a5e-abef5f273b21",
   "metadata": {},
   "outputs": [
    {
     "data": {
      "image/png": "[encoded data removed]",
      "text/plain": [
       "<Figure size 640x480 with 1 Axes>"
      ]
     },
     "metadata": {},
     "output_type": "display_data"
    }
   ],
   "source": [
    "plt.boxplot(df['price'])\n",
    "plt.show()"
   ]
  },
  {
   "cell_type": "code",
   "execution_count": 30,
   "id": "14f76c33-16d6-4985-b126-36b049c2225b",
   "metadata": {},
   "outputs": [
    {
     "data": {
      "image/png": "[encoded data removed]",
      "text/plain": [
       "<Figure size 640x480 with 1 Axes>"
      ]
     },
     "metadata": {},
     "output_type": "display_data"
    }
   ],
   "source": [
    "plt.hist(df['price'])\n",
    "plt.show()"
   ]
  },
  {
   "cell_type": "code",
   "execution_count": 31,
   "id": "913a4334-b238-457f-a55a-6d56b50d5127",
   "metadata": {},
   "outputs": [
    {
     "data": {
      "text/plain": [
       "119.97090679277355"
      ]
     },
     "execution_count": 31,
     "metadata": {},
     "output_type": "execute_result"
    }
   ],
   "source": [
    "df['price'].mean()"
   ]
  },
  {
   "cell_type": "markdown",
   "id": "c0746394-5e10-4b1b-89f9-055f7013b5dd",
   "metadata": {},
   "source": [
    "#### 4.6 Distribution of Airbnb prices"
   ]
  },
  {
   "cell_type": "code",
   "execution_count": 32,
   "id": "dce99f00-c9f4-486d-a36d-28c2a75bdf06",
   "metadata": {},
   "outputs": [
    {
     "data": {
      "text/plain": [
       "Text(0.5, 1.0, 'Distribution of Airbnb prices')"
      ]
     },
     "execution_count": 32,
     "metadata": {},
     "output_type": "execute_result"
    },
    {
     "data": {
      "image/png": "[encoded data removed]",
      "text/plain": [
       "<Figure size 1200x500 with 1 Axes>"
      ]
     },
     "metadata": {},
     "output_type": "display_data"
    }
   ],
   "source": [
    "plt.figure(figsize = (12, 5))\n",
    "\n",
    "sns.distplot(df['price'], color = 'r')\n",
    "\n",
    "plt.xlabel('Price', fontsize = 10)\n",
    "plt.ylabel('Density', fontsize = 10)\n",
    "\n",
    "plt.title('Distribution of Airbnb prices', fontsize = 10)"
   ]
  },
  {
   "cell_type": "markdown",
   "id": "78111a4e-16d5-40ab-8e9e-7f1637a57a46",
   "metadata": {},
   "source": [
    "#### 4.7 Counts of neighbouthood group"
   ]
  },
  {
   "cell_type": "code",
   "execution_count": 33,
   "id": "40167bf7-f8da-4e7e-b165-5a28388ae54b",
   "metadata": {},
   "outputs": [
    {
     "data": {
      "text/plain": [
       "neighbourhood_group\n",
       "Manhattan        19489\n",
       "Brooklyn         19400\n",
       "Queens            5565\n",
       "Bronx             1068\n",
       "Staten Island      365\n",
       "Name: count, dtype: int64"
      ]
     },
     "execution_count": 33,
     "metadata": {},
     "output_type": "execute_result"
    }
   ],
   "source": [
    "df['neighbourhood_group'].value_counts()"
   ]
  },
  {
   "cell_type": "code",
   "execution_count": 34,
   "id": "f35e8a30-8ef4-4041-982b-87d779fefce7",
   "metadata": {},
   "outputs": [
    {
     "data": {
      "image/png": "[encoded data removed]",
      "text/plain": [
       "<Figure size 1000x600 with 1 Axes>"
      ]
     },
     "metadata": {},
     "output_type": "display_data"
    }
   ],
   "source": [
    "plt.figure( figsize = (10,6))\n",
    "\n",
    "sns.countplot(data = df, x = 'neighbourhood_group')\n",
    "\n",
    "plt.title('Neighbourhood group  Listing Counts')\n",
    "\n",
    "plt.xlabel('Neighbourhood_group', fontsize = 10)\n",
    "plt.ylabel('Total listing count', fontsize = 10)\n",
    "\n",
    "plt.show()"
   ]
  },
  {
   "cell_type": "code",
   "execution_count": 35,
   "id": "eca522b6-0fcc-4924-97c7-3eec996b9181",
   "metadata": {},
   "outputs": [
    {
     "data": {
      "text/plain": [
       "room_type\n",
       "Entire home/apt    22774\n",
       "Private room       21976\n",
       "Shared room         1137\n",
       "Name: count, dtype: int64"
      ]
     },
     "execution_count": 35,
     "metadata": {},
     "output_type": "execute_result"
    }
   ],
   "source": [
    "room_type_counts = df['room_type'].value_counts()\n",
    "room_type_counts"
   ]
  },
  {
   "cell_type": "markdown",
   "id": "bddbbce8-d750-4a42-9a16-d34632ae219c",
   "metadata": {},
   "source": [
    "#### 4.8 Proportion of Room types by category"
   ]
  },
  {
   "cell_type": "code",
   "execution_count": 36,
   "id": "c1f6570c-ee4a-4537-bee2-ecd085a38410",
   "metadata": {},
   "outputs": [
    {
     "data": {
      "image/png": "[encoded data removed]",
      "text/plain": [
       "<Figure size 1000x600 with 1 Axes>"
      ]
     },
     "metadata": {},
     "output_type": "display_data"
    }
   ],
   "source": [
    "plt.figure(figsize = (10,6))\n",
    "labels = room_type_counts.index\n",
    "sizes = room_type_counts.values\n",
    "plt.pie(sizes, labels = labels, autopct = '%1.1f%%')\n",
    "plt.legend(title = 'Room type')\n",
    "plt.show()\n"
   ]
  },
  {
   "cell_type": "markdown",
   "id": "6e5dce8f-9a22-412b-b0ad-bf0082f5ca2b",
   "metadata": {},
   "source": [
    "#### 4.9 Average price by neighbourhood group"
   ]
  },
  {
   "cell_type": "code",
   "execution_count": 64,
   "id": "76c129a6-0aa6-4dcd-bc4a-31ad8754c74f",
   "metadata": {},
   "outputs": [
    {
     "data": {
      "text/plain": [
       "Text(0.5, 1.0, 'Average Price by Neighbourhood Group')"
      ]
     },
     "execution_count": 64,
     "metadata": {},
     "output_type": "execute_result"
    },
    {
     "data": {
      "image/png": "[encoded data removed]",
      "text/plain": [
       "<Figure size 1200x800 with 1 Axes>"
      ]
     },
     "metadata": {},
     "output_type": "display_data"
    }
   ],
   "source": [
    "plt.figure(figsize=(12, 8))\n",
    "sns.pointplot(x = 'neighbourhood_group', y='price', data=df, estimator = np.mean) # estimator is a paramter based on which the calculation will be made to plot the error barss\n",
    "plt.xlabel('Neighbourhood Group',fontsize=12)\n",
    "plt.ylabel('Average Price',fontsize=12)\n",
    "plt.title('Average Price by Neighbourhood Group',fontsize=12)"
   ]
  },
  {
   "cell_type": "markdown",
   "id": "09785e7a-ac3d-4dc4-a8d1-421765d85105",
   "metadata": {},
   "source": [
    "## 5. Correlation analysis"
   ]
  },
  {
   "cell_type": "code",
   "execution_count": 38,
   "id": "f37bac30-a71c-4e98-8deb-49ddae9f743e",
   "metadata": {},
   "outputs": [
    {
     "data": {
      "text/html": [
       "<div>\n",
       "<style scoped>\n",
       "    .dataframe tbody tr th:only-of-type {\n",
       "        vertical-align: middle;\n",
       "    }\n",
       "\n",
       "    .dataframe tbody tr th {\n",
       "        vertical-align: top;\n",
       "    }\n",
       "\n",
       "    .dataframe thead th {\n",
       "        text-align: right;\n",
       "    }\n",
       "</style>\n",
       "<table border=\"1\" class=\"dataframe\">\n",
       "  <thead>\n",
       "    <tr style=\"text-align: right;\">\n",
       "      <th></th>\n",
       "      <th>listing_id</th>\n",
       "      <th>host_id</th>\n",
       "      <th>latitude</th>\n",
       "      <th>longitude</th>\n",
       "      <th>price</th>\n",
       "      <th>minimum_nights</th>\n",
       "      <th>total_reviews</th>\n",
       "      <th>reviews_per_month</th>\n",
       "      <th>host_listings_count</th>\n",
       "      <th>availability_365</th>\n",
       "    </tr>\n",
       "  </thead>\n",
       "  <tbody>\n",
       "    <tr>\n",
       "      <th>listing_id</th>\n",
       "      <td>1.000000</td>\n",
       "      <td>0.581393</td>\n",
       "      <td>-0.008027</td>\n",
       "      <td>0.101547</td>\n",
       "      <td>-0.018063</td>\n",
       "      <td>-0.013829</td>\n",
       "      <td>-0.320693</td>\n",
       "      <td>0.178793</td>\n",
       "      <td>0.125551</td>\n",
       "      <td>0.073377</td>\n",
       "    </tr>\n",
       "    <tr>\n",
       "      <th>host_id</th>\n",
       "      <td>0.581393</td>\n",
       "      <td>1.000000</td>\n",
       "      <td>0.015943</td>\n",
       "      <td>0.144474</td>\n",
       "      <td>-0.034668</td>\n",
       "      <td>-0.017937</td>\n",
       "      <td>-0.136711</td>\n",
       "      <td>0.208139</td>\n",
       "      <td>0.147280</td>\n",
       "      <td>0.193928</td>\n",
       "    </tr>\n",
       "    <tr>\n",
       "      <th>latitude</th>\n",
       "      <td>-0.008027</td>\n",
       "      <td>0.015943</td>\n",
       "      <td>1.000000</td>\n",
       "      <td>0.091374</td>\n",
       "      <td>0.068766</td>\n",
       "      <td>0.025985</td>\n",
       "      <td>-0.012324</td>\n",
       "      <td>-0.017930</td>\n",
       "      <td>0.021455</td>\n",
       "      <td>-0.017249</td>\n",
       "    </tr>\n",
       "    <tr>\n",
       "      <th>longitude</th>\n",
       "      <td>0.101547</td>\n",
       "      <td>0.144474</td>\n",
       "      <td>0.091374</td>\n",
       "      <td>1.000000</td>\n",
       "      <td>-0.306978</td>\n",
       "      <td>-0.064215</td>\n",
       "      <td>0.053944</td>\n",
       "      <td>0.140833</td>\n",
       "      <td>-0.107684</td>\n",
       "      <td>0.096995</td>\n",
       "    </tr>\n",
       "    <tr>\n",
       "      <th>price</th>\n",
       "      <td>-0.018063</td>\n",
       "      <td>-0.034668</td>\n",
       "      <td>0.068766</td>\n",
       "      <td>-0.306978</td>\n",
       "      <td>1.000000</td>\n",
       "      <td>0.031472</td>\n",
       "      <td>-0.027675</td>\n",
       "      <td>-0.047422</td>\n",
       "      <td>0.174450</td>\n",
       "      <td>0.066710</td>\n",
       "    </tr>\n",
       "    <tr>\n",
       "      <th>minimum_nights</th>\n",
       "      <td>-0.013829</td>\n",
       "      <td>-0.017937</td>\n",
       "      <td>0.025985</td>\n",
       "      <td>-0.064215</td>\n",
       "      <td>0.031472</td>\n",
       "      <td>1.000000</td>\n",
       "      <td>-0.082934</td>\n",
       "      <td>-0.127869</td>\n",
       "      <td>0.133638</td>\n",
       "      <td>0.146438</td>\n",
       "    </tr>\n",
       "    <tr>\n",
       "      <th>total_reviews</th>\n",
       "      <td>-0.320693</td>\n",
       "      <td>-0.136711</td>\n",
       "      <td>-0.012324</td>\n",
       "      <td>0.053944</td>\n",
       "      <td>-0.027675</td>\n",
       "      <td>-0.082934</td>\n",
       "      <td>1.000000</td>\n",
       "      <td>0.593655</td>\n",
       "      <td>-0.070557</td>\n",
       "      <td>0.183409</td>\n",
       "    </tr>\n",
       "    <tr>\n",
       "      <th>reviews_per_month</th>\n",
       "      <td>0.178793</td>\n",
       "      <td>0.208139</td>\n",
       "      <td>-0.017930</td>\n",
       "      <td>0.140833</td>\n",
       "      <td>-0.047422</td>\n",
       "      <td>-0.127869</td>\n",
       "      <td>0.593655</td>\n",
       "      <td>1.000000</td>\n",
       "      <td>-0.051093</td>\n",
       "      <td>0.171450</td>\n",
       "    </tr>\n",
       "    <tr>\n",
       "      <th>host_listings_count</th>\n",
       "      <td>0.125551</td>\n",
       "      <td>0.147280</td>\n",
       "      <td>0.021455</td>\n",
       "      <td>-0.107684</td>\n",
       "      <td>0.174450</td>\n",
       "      <td>0.133638</td>\n",
       "      <td>-0.070557</td>\n",
       "      <td>-0.051093</td>\n",
       "      <td>1.000000</td>\n",
       "      <td>0.225704</td>\n",
       "    </tr>\n",
       "    <tr>\n",
       "      <th>availability_365</th>\n",
       "      <td>0.073377</td>\n",
       "      <td>0.193928</td>\n",
       "      <td>-0.017249</td>\n",
       "      <td>0.096995</td>\n",
       "      <td>0.066710</td>\n",
       "      <td>0.146438</td>\n",
       "      <td>0.183409</td>\n",
       "      <td>0.171450</td>\n",
       "      <td>0.225704</td>\n",
       "      <td>1.000000</td>\n",
       "    </tr>\n",
       "  </tbody>\n",
       "</table>\n",
       "</div>"
      ],
      "text/plain": [
       "                     listing_id   host_id  latitude  longitude     price  \\\n",
       "listing_id             1.000000  0.581393 -0.008027   0.101547 -0.018063   \n",
       "host_id                0.581393  1.000000  0.015943   0.144474 -0.034668   \n",
       "latitude              -0.008027  0.015943  1.000000   0.091374  0.068766   \n",
       "longitude              0.101547  0.144474  0.091374   1.000000 -0.306978   \n",
       "price                 -0.018063 -0.034668  0.068766  -0.306978  1.000000   \n",
       "minimum_nights        -0.013829 -0.017937  0.025985  -0.064215  0.031472   \n",
       "total_reviews         -0.320693 -0.136711 -0.012324   0.053944 -0.027675   \n",
       "reviews_per_month      0.178793  0.208139 -0.017930   0.140833 -0.047422   \n",
       "host_listings_count    0.125551  0.147280  0.021455  -0.107684  0.174450   \n",
       "availability_365       0.073377  0.193928 -0.017249   0.096995  0.066710   \n",
       "\n",
       "                     minimum_nights  total_reviews  reviews_per_month  \\\n",
       "listing_id                -0.013829      -0.320693           0.178793   \n",
       "host_id                   -0.017937      -0.136711           0.208139   \n",
       "latitude                   0.025985      -0.012324          -0.017930   \n",
       "longitude                 -0.064215       0.053944           0.140833   \n",
       "price                      0.031472      -0.027675          -0.047422   \n",
       "minimum_nights             1.000000      -0.082934          -0.127869   \n",
       "total_reviews             -0.082934       1.000000           0.593655   \n",
       "reviews_per_month         -0.127869       0.593655           1.000000   \n",
       "host_listings_count        0.133638      -0.070557          -0.051093   \n",
       "availability_365           0.146438       0.183409           0.171450   \n",
       "\n",
       "                     host_listings_count  availability_365  \n",
       "listing_id                      0.125551          0.073377  \n",
       "host_id                         0.147280          0.193928  \n",
       "latitude                        0.021455         -0.017249  \n",
       "longitude                      -0.107684          0.096995  \n",
       "price                           0.174450          0.066710  \n",
       "minimum_nights                  0.133638          0.146438  \n",
       "total_reviews                  -0.070557          0.183409  \n",
       "reviews_per_month              -0.051093          0.171450  \n",
       "host_listings_count             1.000000          0.225704  \n",
       "availability_365                0.225704          1.000000  "
      ]
     },
     "execution_count": 38,
     "metadata": {},
     "output_type": "execute_result"
    }
   ],
   "source": [
    "df.corr(numeric_only = True)"
   ]
  },
  {
   "cell_type": "code",
   "execution_count": 39,
   "id": "22f505b1-d6ec-4867-b8b2-49190182d4ef",
   "metadata": {},
   "outputs": [
    {
     "data": {
      "text/plain": [
       "<Axes: >"
      ]
     },
     "execution_count": 39,
     "metadata": {},
     "output_type": "execute_result"
    },
    {
     "data": {
      "image/png": "[encoded data removed]",
      "text/plain": [
       "<Figure size 1200x800 with 2 Axes>"
      ]
     },
     "metadata": {},
     "output_type": "display_data"
    }
   ],
   "source": [
    "plt.figure(figsize=(12, 8))\n",
    "sns.heatmap(df.corr(numeric_only=True),annot=True,cmap='Pastel1')"
   ]
  },
  {
   "cell_type": "markdown",
   "id": "a7ea5696-cce9-4852-a4e0-d4eebb7c1972",
   "metadata": {},
   "source": [
    "## 6. Statistical analysis"
   ]
  },
  {
   "cell_type": "code",
   "execution_count": 40,
   "id": "f7596991-4827-4f0d-b2e4-876fe329b775",
   "metadata": {},
   "outputs": [],
   "source": [
    "from scipy.stats import f_oneway\n",
    "\n",
    "data = df[['price', 'neighbourhood_group']]\n",
    "neighbourhood_groups = data['neighbourhood_group'].unique()\n",
    "grouped_data = [data['price'][data['neighbourhood_group'] == group] for group in neighbourhood_groups]\n",
    "statistic, p_value = f_oneway(*grouped_data)\n",
    "\n",
    "print(\"One-way ANOVA results:\")\n",
    "print(f\"Statistic: {statistic}\")\n",
    "print(f\"P-value: {p_value}\")"
   ]
  },
  {
   "cell_type": "code",
   "execution_count": 41,
   "id": "e394652c-104a-4b3e-a6f3-0f94972b8d35",
   "metadata": {},
   "outputs": [
    {
     "data": {
      "text/html": [
       "<div>\n",
       "<style scoped>\n",
       "    .dataframe tbody tr th:only-of-type {\n",
       "        vertical-align: middle;\n",
       "    }\n",
       "\n",
       "    .dataframe tbody tr th {\n",
       "        vertical-align: top;\n",
       "    }\n",
       "\n",
       "    .dataframe thead th {\n",
       "        text-align: right;\n",
       "    }\n",
       "</style>\n",
       "<table border=\"1\" class=\"dataframe\">\n",
       "  <thead>\n",
       "    <tr style=\"text-align: right;\">\n",
       "      <th></th>\n",
       "      <th>price</th>\n",
       "      <th>neighbourhood_group</th>\n",
       "    </tr>\n",
       "  </thead>\n",
       "  <tbody>\n",
       "    <tr>\n",
       "      <th>0</th>\n",
       "      <td>149</td>\n",
       "      <td>Brooklyn</td>\n",
       "    </tr>\n",
       "    <tr>\n",
       "      <th>1</th>\n",
       "      <td>225</td>\n",
       "      <td>Manhattan</td>\n",
       "    </tr>\n",
       "    <tr>\n",
       "      <th>2</th>\n",
       "      <td>150</td>\n",
       "      <td>Manhattan</td>\n",
       "    </tr>\n",
       "    <tr>\n",
       "      <th>3</th>\n",
       "      <td>89</td>\n",
       "      <td>Brooklyn</td>\n",
       "    </tr>\n",
       "    <tr>\n",
       "      <th>4</th>\n",
       "      <td>80</td>\n",
       "      <td>Manhattan</td>\n",
       "    </tr>\n",
       "    <tr>\n",
       "      <th>...</th>\n",
       "      <td>...</td>\n",
       "      <td>...</td>\n",
       "    </tr>\n",
       "    <tr>\n",
       "      <th>48890</th>\n",
       "      <td>70</td>\n",
       "      <td>Brooklyn</td>\n",
       "    </tr>\n",
       "    <tr>\n",
       "      <th>48891</th>\n",
       "      <td>40</td>\n",
       "      <td>Brooklyn</td>\n",
       "    </tr>\n",
       "    <tr>\n",
       "      <th>48892</th>\n",
       "      <td>115</td>\n",
       "      <td>Manhattan</td>\n",
       "    </tr>\n",
       "    <tr>\n",
       "      <th>48893</th>\n",
       "      <td>55</td>\n",
       "      <td>Manhattan</td>\n",
       "    </tr>\n",
       "    <tr>\n",
       "      <th>48894</th>\n",
       "      <td>90</td>\n",
       "      <td>Manhattan</td>\n",
       "    </tr>\n",
       "  </tbody>\n",
       "</table>\n",
       "<p>45887 rows × 2 columns</p>\n",
       "</div>"
      ],
      "text/plain": [
       "       price neighbourhood_group\n",
       "0        149            Brooklyn\n",
       "1        225           Manhattan\n",
       "2        150           Manhattan\n",
       "3         89            Brooklyn\n",
       "4         80           Manhattan\n",
       "...      ...                 ...\n",
       "48890     70            Brooklyn\n",
       "48891     40            Brooklyn\n",
       "48892    115           Manhattan\n",
       "48893     55           Manhattan\n",
       "48894     90           Manhattan\n",
       "\n",
       "[45887 rows x 2 columns]"
      ]
     },
     "execution_count": 41,
     "metadata": {},
     "output_type": "execute_result"
    }
   ],
   "source": [
    "data"
   ]
  },
  {
   "cell_type": "code",
   "execution_count": 42,
   "id": "56b23e50-3b95-4ac9-bb04-7570fdf71648",
   "metadata": {
    "scrolled": true
   },
   "outputs": [
    {
     "data": {
      "text/plain": [
       "[0        149\n",
       " 3         89\n",
       " 6         60\n",
       " 12        89\n",
       " 15       140\n",
       "         ... \n",
       " 48882     40\n",
       " 48884    190\n",
       " 48887    170\n",
       " 48890     70\n",
       " 48891     40\n",
       " Name: price, Length: 19400, dtype: int64,\n",
       " 1        225\n",
       " 2        150\n",
       " 4         80\n",
       " 5        200\n",
       " 7         79\n",
       "         ... \n",
       " 48886    200\n",
       " 48888    125\n",
       " 48892    115\n",
       " 48893     55\n",
       " 48894     90\n",
       " Name: price, Length: 19489, dtype: int64,\n",
       " 46       130\n",
       " 77        70\n",
       " 143      140\n",
       " 161       79\n",
       " 196       55\n",
       "         ... \n",
       " 48858     68\n",
       " 48863     93\n",
       " 48866     58\n",
       " 48878     45\n",
       " 48889     65\n",
       " Name: price, Length: 5565, dtype: int64,\n",
       " 169       70\n",
       " 249       36\n",
       " 250       37\n",
       " 251       37\n",
       " 256       36\n",
       "         ... \n",
       " 48401     65\n",
       " 48441     40\n",
       " 48446    100\n",
       " 48649     54\n",
       " 48799    235\n",
       " Name: price, Length: 365, dtype: int64,\n",
       " 171       40\n",
       " 207       45\n",
       " 260       90\n",
       " 261      105\n",
       " 309       90\n",
       "         ... \n",
       " 48783    140\n",
       " 48792     80\n",
       " 48795    125\n",
       " 48796     70\n",
       " 48805    100\n",
       " Name: price, Length: 1068, dtype: int64]"
      ]
     },
     "execution_count": 42,
     "metadata": {},
     "output_type": "execute_result"
    }
   ],
   "source": [
    "grouped_data"
   ]
  },
  {
   "cell_type": "code",
   "execution_count": 43,
   "id": "4cf732b6-c2ef-47f1-9ea1-87323216f7fb",
   "metadata": {},
   "outputs": [
    {
     "data": {
      "text/plain": [
       "array(['Brooklyn', 'Manhattan', 'Queens', 'Staten Island', 'Bronx'],\n",
       "      dtype=object)"
      ]
     },
     "execution_count": 43,
     "metadata": {},
     "output_type": "execute_result"
    }
   ],
   "source": [
    "neighbourhood_groups"
   ]
  },
  {
   "cell_type": "markdown",
   "id": "b283476c-de65-4125-8117-11a5a3688215",
   "metadata": {},
   "source": [
    "#### Oneway Annova test"
   ]
  },
  {
   "cell_type": "code",
   "execution_count": 44,
   "id": "4e92b405-1093-4cab-8e7a-b19e7c56a65d",
   "metadata": {},
   "outputs": [
    {
     "name": "stdout",
     "output_type": "stream",
     "text": [
      "One-way ANOVA results:\n",
      "Statistic: 1506.924447409242\n",
      "P-value: 0.0\n"
     ]
    }
   ],
   "source": [
    "statistic, p_value = f_oneway(*grouped_data)\n",
    "\n",
    "print(\"One-way ANOVA results:\")\n",
    "print(f\"Statistic: {statistic}\")\n",
    "print(f\"P-value: {p_value}\")"
   ]
  },
  {
   "cell_type": "code",
   "execution_count": 45,
   "id": "5fdc6988-957f-49ba-b4b3-493d674d76b0",
   "metadata": {},
   "outputs": [
    {
     "name": "stdout",
     "output_type": "stream",
     "text": [
      "There is a significant difference in the average room prices between different neighborhood groups.\n"
     ]
    }
   ],
   "source": [
    "# Interpret the results\n",
    "if p_value < 0.05:\n",
    "    print(\"There is a significant difference in the average room prices between different neighborhood groups.\")\n",
    "else:\n",
    "    print(\"There is no significant difference in the average room prices between different neighborhood groups.\")"
   ]
  },
  {
   "cell_type": "code",
   "execution_count": 46,
   "id": "3da7bb0f-bec8-4ceb-b499-6833a68a7df4",
   "metadata": {},
   "outputs": [],
   "source": [
    "brooklyn_prices = df[df['neighbourhood_group'] == 'Brooklyn']['price']\n",
    "manhattan_prices = df[df['neighbourhood_group'] == 'Manhattan']['price']"
   ]
  },
  {
   "cell_type": "code",
   "execution_count": 47,
   "id": "3123026c-cdba-4efe-8d9b-aba309485e21",
   "metadata": {},
   "outputs": [
    {
     "data": {
      "text/plain": [
       "0     149\n",
       "3      89\n",
       "6      60\n",
       "12     89\n",
       "15    140\n",
       "Name: price, dtype: int64"
      ]
     },
     "execution_count": 47,
     "metadata": {},
     "output_type": "execute_result"
    }
   ],
   "source": [
    "brooklyn_prices.head()"
   ]
  },
  {
   "cell_type": "code",
   "execution_count": 48,
   "id": "b69034a4-9250-4b97-8833-3b6e539f2d76",
   "metadata": {},
   "outputs": [
    {
     "data": {
      "text/plain": [
       "1    225\n",
       "2    150\n",
       "4     80\n",
       "5    200\n",
       "7     79\n",
       "Name: price, dtype: int64"
      ]
     },
     "execution_count": 48,
     "metadata": {},
     "output_type": "execute_result"
    }
   ],
   "source": [
    "manhattan_prices.head()"
   ]
  },
  {
   "cell_type": "code",
   "execution_count": 66,
   "id": "4baff406-f109-4ca3-be7e-6f4e1a49a9e3",
   "metadata": {},
   "outputs": [
    {
     "name": "stdout",
     "output_type": "stream",
     "text": [
      "105.71345360824742\n",
      "145.94289086151161\n"
     ]
    }
   ],
   "source": [
    "print(brooklyn_prices.mean())\n",
    "print(manhattan_prices.mean())"
   ]
  },
  {
   "cell_type": "code",
   "execution_count": 50,
   "id": "c112b5eb-d387-4c2e-8247-1c81e819d4d9",
   "metadata": {},
   "outputs": [
    {
     "data": {
      "text/plain": [
       "145.94289086151161"
      ]
     },
     "execution_count": 50,
     "metadata": {},
     "output_type": "execute_result"
    }
   ],
   "source": []
  },
  {
   "cell_type": "markdown",
   "id": "73c8d19e-2911-4d1b-91ea-2e0ab8c1d802",
   "metadata": {},
   "source": [
    "#### Ratio of means between \"Brooklyn prices\" and \"Manhattan prices\""
   ]
  },
  {
   "cell_type": "code",
   "execution_count": 67,
   "id": "828bb22d-477f-415b-a852-4e63eb3e5dae",
   "metadata": {},
   "outputs": [
    {
     "data": {
      "text/plain": [
       "0.7243480856396165"
      ]
     },
     "execution_count": 67,
     "metadata": {},
     "output_type": "execute_result"
    }
   ],
   "source": [
    "from scipy.stats import f\n",
    "F=brooklyn_prices.mean()/manhattan_prices.mean()\n",
    "F"
   ]
  },
  {
   "cell_type": "code",
   "execution_count": 52,
   "id": "ed699c72-10a4-4da9-9942-f7281403f0ea",
   "metadata": {},
   "outputs": [
    {
     "data": {
      "text/plain": [
       "0.7243480856396165"
      ]
     },
     "execution_count": 52,
     "metadata": {},
     "output_type": "execute_result"
    }
   ],
   "source": [
    "F"
   ]
  },
  {
   "cell_type": "markdown",
   "id": "9f60fad1-c7c5-4906-ab86-05aa56f5325a",
   "metadata": {},
   "source": [
    "#### Calculating P-value"
   ]
  },
  {
   "cell_type": "code",
   "execution_count": 68,
   "id": "aedc00f7-56d7-490e-ba68-34db3bb3487c",
   "metadata": {},
   "outputs": [
    {
     "name": "stdout",
     "output_type": "stream",
     "text": [
      "0.021773985421123965\n",
      "Variances of both the samples are not equal.\n"
     ]
    }
   ],
   "source": [
    "df1=len(brooklyn_prices)-1\n",
    "df2=len(manhattan_prices)-1\n",
    "p_value=1-f.cdf(df1,df2,F)\n",
    "print(p_value)\n",
    "if p_value < 0.05:\n",
    "    print(\"Variances of both the samples are not equal.\")\n",
    "else:\n",
    "    print(\"Variances of both the samples are equal.\")"
   ]
  },
  {
   "cell_type": "code",
   "execution_count": 54,
   "id": "ec75f741-5d8f-4eff-94ff-2da09f92bf99",
   "metadata": {},
   "outputs": [
    {
     "data": {
      "text/plain": [
       "0.021773985421123965"
      ]
     },
     "execution_count": 54,
     "metadata": {},
     "output_type": "execute_result"
    }
   ],
   "source": [
    "p_value=1-f.cdf(df1,df2,F)\n",
    "p_value"
   ]
  },
  {
   "cell_type": "code",
   "execution_count": 55,
   "id": "d54b0d98-92c4-4c89-ba02-578191881e87",
   "metadata": {},
   "outputs": [
    {
     "name": "stdout",
     "output_type": "stream",
     "text": [
      "Variances of both the samples are not equal.\n"
     ]
    }
   ],
   "source": [
    "if p_value < 0.05:\n",
    "    print(\"Variances of both the samples are not equal.\")\n",
    "else:\n",
    "    print(\"Variances of both the samples are equal.\")"
   ]
  },
  {
   "cell_type": "markdown",
   "id": "795d3c6c-8e0d-4dc4-b07b-2db3d6c81d76",
   "metadata": {},
   "source": [
    "#### Performing 2 sample T-test"
   ]
  },
  {
   "cell_type": "code",
   "execution_count": 69,
   "id": "5a3f62ea-8203-4fdd-ba72-09b72612fe96",
   "metadata": {},
   "outputs": [
    {
     "name": "stdout",
     "output_type": "stream",
     "text": [
      "0.0\n",
      "Reject the null hypothesis. There is a significant difference in average room prices between Brooklyn and Manhattan.\n"
     ]
    }
   ],
   "source": [
    "from scipy.stats import ttest_ind\n",
    "\n",
    "t_stats, p_value2=ttest_ind(brooklyn_prices,manhattan_prices, equal_var=False)\n",
    "print(p_value2)\n",
    "if p_value < 0.05:\n",
    "    print(\"Reject the null hypothesis. There is a significant difference in average room prices between Brooklyn and Manhattan.\")\n",
    "else:\n",
    "    print(\"Fail to reject the null hypothesis. There is no significant difference in average room prices between Brooklyn and Manhattan.\")"
   ]
  },
  {
   "cell_type": "code",
   "execution_count": 57,
   "id": "43644791-d4a0-415d-b07b-804891582fef",
   "metadata": {},
   "outputs": [
    {
     "data": {
      "text/plain": [
       "0.0"
      ]
     },
     "execution_count": 57,
     "metadata": {},
     "output_type": "execute_result"
    }
   ],
   "source": [
    "print(p_value2)"
   ]
  },
  {
   "cell_type": "code",
   "execution_count": null,
   "id": "4d2c6d48-bc51-40b3-a4a6-17558ca6a51e",
   "metadata": {},
   "outputs": [],
   "source": [
    "if p_value < 0.05:\n",
    "    print(\"Reject the null hypothesis. There is a significant difference in average room prices between Brooklyn and Manhattan.\")\n",
    "else:\n",
    "    print(\"Fail to reject the null hypothesis. There is no significant difference in average room prices between Brooklyn and Manhattan.\")"
   ]
  },
  {
   "cell_type": "markdown",
   "id": "a1f11c6a-b67c-4e68-8b48-b6d46803f9dc",
   "metadata": {},
   "source": [
    "#### Checking association between two samples using Contigency table  "
   ]
  },
  {
   "cell_type": "code",
   "execution_count": 58,
   "id": "2c5db910-d068-4e16-bb7c-02fa6a4655d3",
   "metadata": {},
   "outputs": [],
   "source": [
    "from scipy.stats import chi2_contingency\n",
    "contingency_table = pd.crosstab(df['neighbourhood_group'], df['room_type'])\n",
    "contingency_table"
   ]
  },
  {
   "cell_type": "code",
   "execution_count": 59,
   "id": "9bbdf802-87c7-4985-b583-f6feef2d943f",
   "metadata": {},
   "outputs": [
    {
     "data": {
      "text/html": [
       "<div>\n",
       "<style scoped>\n",
       "    .dataframe tbody tr th:only-of-type {\n",
       "        vertical-align: middle;\n",
       "    }\n",
       "\n",
       "    .dataframe tbody tr th {\n",
       "        vertical-align: top;\n",
       "    }\n",
       "\n",
       "    .dataframe thead th {\n",
       "        text-align: right;\n",
       "    }\n",
       "</style>\n",
       "<table border=\"1\" class=\"dataframe\">\n",
       "  <thead>\n",
       "    <tr style=\"text-align: right;\">\n",
       "      <th>room_type</th>\n",
       "      <th>Entire home/apt</th>\n",
       "      <th>Private room</th>\n",
       "      <th>Shared room</th>\n",
       "    </tr>\n",
       "    <tr>\n",
       "      <th>neighbourhood_group</th>\n",
       "      <th></th>\n",
       "      <th></th>\n",
       "      <th></th>\n",
       "    </tr>\n",
       "  </thead>\n",
       "  <tbody>\n",
       "    <tr>\n",
       "      <th>Bronx</th>\n",
       "      <td>362</td>\n",
       "      <td>648</td>\n",
       "      <td>58</td>\n",
       "    </tr>\n",
       "    <tr>\n",
       "      <th>Brooklyn</th>\n",
       "      <td>8936</td>\n",
       "      <td>10053</td>\n",
       "      <td>411</td>\n",
       "    </tr>\n",
       "    <tr>\n",
       "      <th>Manhattan</th>\n",
       "      <td>11286</td>\n",
       "      <td>7738</td>\n",
       "      <td>465</td>\n",
       "    </tr>\n",
       "    <tr>\n",
       "      <th>Queens</th>\n",
       "      <td>2022</td>\n",
       "      <td>3349</td>\n",
       "      <td>194</td>\n",
       "    </tr>\n",
       "    <tr>\n",
       "      <th>Staten Island</th>\n",
       "      <td>168</td>\n",
       "      <td>188</td>\n",
       "      <td>9</td>\n",
       "    </tr>\n",
       "  </tbody>\n",
       "</table>\n",
       "</div>"
      ],
      "text/plain": [
       "room_type            Entire home/apt  Private room  Shared room\n",
       "neighbourhood_group                                            \n",
       "Bronx                            362           648           58\n",
       "Brooklyn                        8936         10053          411\n",
       "Manhattan                      11286          7738          465\n",
       "Queens                          2022          3349          194\n",
       "Staten Island                    168           188            9"
      ]
     },
     "execution_count": 59,
     "metadata": {},
     "output_type": "execute_result"
    }
   ],
   "source": [
    "contingency_table = pd.crosstab(df['neighbourhood_group'], df['room_type'])\n",
    "contingency_table"
   ]
  },
  {
   "cell_type": "code",
   "execution_count": 60,
   "id": "b5c3f121-d48d-4799-af02-5f8d39daa9ee",
   "metadata": {},
   "outputs": [],
   "source": [
    "chi2_stat, p_value3, dof, expected = chi2_contingency(contingency_table)"
   ]
  },
  {
   "cell_type": "code",
   "execution_count": 61,
   "id": "8dd1254a-9eb6-4f36-b067-31879dbfcb0c",
   "metadata": {},
   "outputs": [
    {
     "data": {
      "text/plain": [
       "9.545015557384096e-252"
      ]
     },
     "execution_count": 61,
     "metadata": {},
     "output_type": "execute_result"
    }
   ],
   "source": [
    "p_value3"
   ]
  },
  {
   "cell_type": "code",
   "execution_count": 62,
   "id": "7fe910de-7a60-40e4-98ea-47ad06736353",
   "metadata": {},
   "outputs": [
    {
     "name": "stdout",
     "output_type": "stream",
     "text": [
      "Reject the null hypothesis. there is  association between both the samples\n"
     ]
    }
   ],
   "source": [
    "if p_value < 0.05:\n",
    "    print(\"Reject the null hypothesis. there is  association between both the samples\")\n",
    "else:\n",
    "    print(\"Fail to reject the null hypothesis there is no association between both the samples.\")"
   ]
  }
 ],
 "metadata": {
  "kernelspec": {
   "display_name": "Python 3 (ipykernel)",
   "language": "python",
   "name": "python3"
  },
  "language_info": {
   "codemirror_mode": {
    "name": "ipython",
    "version": 3
   },
   "file_extension": ".py",
   "mimetype": "text/x-python",
   "name": "python",
   "nbconvert_exporter": "python",
   "pygments_lexer": "ipython3",
   "version": "3.11.4"
  }
 },
 "nbformat": 4,
 "nbformat_minor": 5
}
